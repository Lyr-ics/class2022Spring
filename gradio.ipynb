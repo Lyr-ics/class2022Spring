{
  "nbformat": 4,
  "nbformat_minor": 0,
  "metadata": {
    "colab": {
      "name": "gradio",
      "provenance": [],
      "collapsed_sections": [],
      "authorship_tag": "ABX9TyN0oPhZGEzbfgG2hxefsYVf",
      "include_colab_link": true
    },
    "kernelspec": {
      "name": "python3",
      "display_name": "Python 3"
    },
    "language_info": {
      "name": "python"
    }
  },
  "cells": [
    {
      "cell_type": "markdown",
      "metadata": {
        "id": "view-in-github",
        "colab_type": "text"
      },
      "source": [
        "<a href=\"https://colab.research.google.com/github/Lyr-ics/class2022Spring/blob/main/gradio.ipynb\" target=\"_parent\"><img src=\"https://colab.research.google.com/assets/colab-badge.svg\" alt=\"Open In Colab\"/></a>"
      ]
    },
    {
      "cell_type": "code",
      "execution_count": null,
      "metadata": {
        "id": "YDrXCeAzuDtL"
      },
      "outputs": [],
      "source": [
        "!pip install gradio\n",
        "import gradio as gr\n",
        "import requests\n",
        "import pandas as pd"
      ]
    },
    {
      "cell_type": "code",
      "source": [
        "URL = ('http://apis.data.go.kr/3130000/openapi/sns/'\n",
        "'getsns?'\n",
        "'serviceKey=%2FYbE7qVMX%2FJkKS8OSZeI1sOIoUbJJY8STfkuPK7pV8WKKHL6T8X%2FxwG2ewvgq0lmZzyPdqA4aMS0QWPZnBp%2BxQ%3D%3D'\n",
        "'&type=json'\n",
        "'&filterKey=addr'\n",
        "'&filterValues=홍대 걷고 싶은 거리'\n",
        "'&numOfRows=200'\n",
        "'&pageNo=0')\n",
        "\n",
        "response=requests.get(URL)"
      ],
      "metadata": {
        "id": "SDF1P7-gDC9O"
      },
      "execution_count": 2,
      "outputs": []
    },
    {
      "cell_type": "code",
      "source": [
        "response"
      ],
      "metadata": {
        "colab": {
          "base_uri": "https://localhost:8080/"
        },
        "id": "zll5oCVtuv46",
        "outputId": "df37d0a5-fdcc-4ebd-fe69-3143c57b579d"
      },
      "execution_count": 4,
      "outputs": [
        {
          "output_type": "execute_result",
          "data": {
            "text/plain": [
              "<Response [200]>"
            ]
          },
          "metadata": {},
          "execution_count": 4
        }
      ]
    },
    {
      "cell_type": "code",
      "source": [
        "response.text"
      ],
      "metadata": {
        "id": "N8rpSasMAMif"
      },
      "execution_count": null,
      "outputs": []
    },
    {
      "cell_type": "code",
      "source": [
        "r = response.json()\n",
        "r"
      ],
      "metadata": {
        "id": "FHtx8NQuxetE"
      },
      "execution_count": null,
      "outputs": []
    },
    {
      "cell_type": "code",
      "source": [
        "def test(filterValues):\n",
        " URL = ('http://apis.data.go.kr/3130000/openapi/sns/'\n",
        "          'getsns?'\n",
        "          'serviceKey=%2FYbE7qVMX%2FJkKS8OSZeI1sOIoUbJJY8STfkuPK7pV8WKKHL6T8X%2FxwG2ewvgq0lmZzyPdqA4aMS0QWPZnBp%2BxQ%3D%3D'\n",
        "          '&type=json'\n",
        "          '&filterKey=addr'\n",
        "          '&filterValues='+filterValues+\n",
        "          '&numOfRows=200'\n",
        "          '&pageNo=0')\n",
        "\n",
        "\n",
        " response=requests.get(URL)\n",
        " r=response.json()\n",
        " items = r['items']\n",
        "\n",
        " addr = [item['addr'] for item in items]\n",
        " date = [item['date'] for item in items]\n",
        " negative = [item['negative'] for item in items]\n",
        " neutral = [item['neutral'] for item in items]\n",
        " positive= [item['positive'] for item in items]\n",
        "\n",
        " addr = pd.Series(addr)\n",
        " date = pd.Series(date)\n",
        " negative = pd.Series(negative)\n",
        " neutral = pd.Series(neutral)\n",
        " positive = pd.Series(positive)\n",
        "\n",
        " df = pd.DataFrame({'addr':addr, 'date':date, 'negative':negative, 'neutral':neutral, 'positive':positive})\n",
        " return df"
      ],
      "metadata": {
        "id": "Nf08I85-EJSd"
      },
      "execution_count": 12,
      "outputs": []
    },
    {
      "cell_type": "code",
      "source": [
        "iface = gr.Interface(test,gr.inputs.Dropdown(['연트럴파크', '홍통거리', '홍대 걷고 싶은 거리', '홍대 주차장 골목', '망원시장','망리단길','하늘공원','월드컵공원', '용강동 음식문화거리']), outputs=['dataframe'])\n",
        "iface.launch(debug=True)"
      ],
      "metadata": {
        "colab": {
          "base_uri": "https://localhost:8080/",
          "height": 669
        },
        "id": "tYF1uiTPNMUS",
        "outputId": "2354baad-0f69-4ae3-dfdc-788b48dbf323"
      },
      "execution_count": 13,
      "outputs": [
        {
          "output_type": "stream",
          "name": "stdout",
          "text": [
            "Colab notebook detected. This cell will run indefinitely so that you can see errors and logs. To turn off, set debug=False in launch().\n",
            "Running on public URL: https://26040.gradio.app\n",
            "\n",
            "This share link expires in 72 hours. For free permanent hosting, check out Spaces (https://huggingface.co/spaces)\n"
          ]
        },
        {
          "output_type": "display_data",
          "data": {
            "text/plain": [
              "<IPython.lib.display.IFrame at 0x7f1530794410>"
            ],
            "text/html": [
              "\n",
              "        <iframe\n",
              "            width=\"900\"\n",
              "            height=\"500\"\n",
              "            src=\"https://26040.gradio.app\"\n",
              "            frameborder=\"0\"\n",
              "            allowfullscreen\n",
              "        ></iframe>\n",
              "        "
            ]
          },
          "metadata": {}
        },
        {
          "output_type": "stream",
          "name": "stdout",
          "text": [
            "Keyboard interruption in main thread... closing server.\n"
          ]
        },
        {
          "output_type": "execute_result",
          "data": {
            "text/plain": [
              "(<fastapi.applications.FastAPI at 0x7f153b511650>,\n",
              " 'http://127.0.0.1:7860/',\n",
              " 'https://26040.gradio.app')"
            ]
          },
          "metadata": {},
          "execution_count": 13
        }
      ]
    },
    {
      "cell_type": "code",
      "source": [
        ""
      ],
      "metadata": {
        "id": "SgUb_spZKzx7"
      },
      "execution_count": null,
      "outputs": []
    }
  ]
}