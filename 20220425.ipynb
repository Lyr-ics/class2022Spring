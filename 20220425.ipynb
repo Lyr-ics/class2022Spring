{
  "nbformat": 4,
  "nbformat_minor": 0,
  "metadata": {
    "colab": {
      "name": "Untitled2.ipynb",
      "provenance": [],
      "authorship_tag": "ABX9TyMYZZHaM7rIsfcSlh1iNrx6",
      "include_colab_link": true
    },
    "kernelspec": {
      "name": "python3",
      "display_name": "Python 3"
    },
    "language_info": {
      "name": "python"
    }
  },
  "cells": [
    {
      "cell_type": "markdown",
      "metadata": {
        "id": "view-in-github",
        "colab_type": "text"
      },
      "source": [
        "<a href=\"https://colab.research.google.com/github/Lyr-ics/class2022Spring/blob/main/20220425.ipynb\" target=\"_parent\"><img src=\"https://colab.research.google.com/assets/colab-badge.svg\" alt=\"Open In Colab\"/></a>"
      ]
    },
    {
      "cell_type": "markdown",
      "source": [
        "**Auto correlation : 자기상관**\n",
        "시계열자료(time series data)에서 현재의 상태가 과거와 미래의 상태에 밀접한 연관을 지니는 경우, 자기상관(autocorrelation) 또는 계열상관(series correlation)이 있다고 한다."
      ],
      "metadata": {
        "id": "RoWTFZIpji8E"
      }
    },
    {
      "cell_type": "markdown",
      "source": [
        "**Root mean square : 제곱평균제곱근, 2차 평균**\n",
        "평균 제곱의 제곱근 (숫자 집합의 제곱의 산술 평균)으로 정의. 측정한 값을 그대로 2승하여 그 2승 평균치의 평방근을 구한 값.\n"
      ],
      "metadata": {
        "id": "sv3eI5M-j4Fc"
      }
    }
  ]
}